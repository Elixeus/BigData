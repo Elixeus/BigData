{
 "cells": [
  {
   "cell_type": "code",
   "execution_count": 2,
   "metadata": {
    "collapsed": false
   },
   "outputs": [
    {
     "name": "stderr",
     "output_type": "stream",
     "text": [
      "/Users/eliseowang/anaconda/lib/python2.7/site-packages/matplotlib/__init__.py:872: UserWarning: axes.color_cycle is deprecated and replaced with axes.prop_cycle; please use the latter.\n",
      "  warnings.warn(self.msg_depr % (key, alt_key))\n"
     ]
    }
   ],
   "source": [
    "import pandas as pd\n",
    "import numpy as np\n",
    "import csv\n",
    "import re\n",
    "from string import punctuation\n",
    "import seaborn as sns\n",
    "pd.set_option('display.max_columns', 58)\n",
    "import matplotlib.pyplot as plt\n",
    "%matplotlib inline"
   ]
  },
  {
   "cell_type": "code",
   "execution_count": 2,
   "metadata": {
    "collapsed": false
   },
   "outputs": [],
   "source": [
    "candi = pd.read_csv('list_of_candidates_updated.csv')\n",
    "small = candi.loc[[0, 1, 6, 7, 9], 'Candidate Name']\n",
    "ls = []\n",
    "for i in small:\n",
    "    ls.append(i.split(' ')[-1])\n",
    "ls = [i.lower() for i in ls]\n",
    "ls = set(ls)\n",
    "# candi = list(candi.loc[[0, 1, 6, 7, 9], 'Candidate Name'].str.split(' ').unique())\n",
    "# candi"
   ]
  },
  {
   "cell_type": "code",
   "execution_count": 3,
   "metadata": {
    "collapsed": false
   },
   "outputs": [
    {
     "name": "stderr",
     "output_type": "stream",
     "text": [
      "/Users/eliseowang/anaconda/lib/python2.7/site-packages/IPython/core/interactiveshell.py:2902: DtypeWarning: Columns (24,26,27,28) have mixed types. Specify dtype option on import or set low_memory=False.\n",
      "  interactivity=interactivity, compiler=compiler, result=result)\n"
     ]
    }
   ],
   "source": [
    "ev_pds = pd.read_csv('20160425.export.CSV', delimiter='\\t', header=None)"
   ]
  },
  {
   "cell_type": "code",
   "execution_count": 4,
   "metadata": {
    "collapsed": false
   },
   "outputs": [
    {
     "data": {
      "text/html": [
       "<div>\n",
       "<table border=\"1\" class=\"dataframe\">\n",
       "  <thead>\n",
       "    <tr style=\"text-align: right;\">\n",
       "      <th></th>\n",
       "      <th>0</th>\n",
       "      <th>1</th>\n",
       "      <th>2</th>\n",
       "      <th>3</th>\n",
       "      <th>4</th>\n",
       "      <th>5</th>\n",
       "      <th>6</th>\n",
       "      <th>7</th>\n",
       "      <th>8</th>\n",
       "      <th>9</th>\n",
       "      <th>10</th>\n",
       "      <th>11</th>\n",
       "      <th>12</th>\n",
       "      <th>13</th>\n",
       "      <th>14</th>\n",
       "      <th>15</th>\n",
       "      <th>16</th>\n",
       "      <th>17</th>\n",
       "      <th>18</th>\n",
       "      <th>19</th>\n",
       "      <th>20</th>\n",
       "      <th>21</th>\n",
       "      <th>22</th>\n",
       "      <th>23</th>\n",
       "      <th>24</th>\n",
       "      <th>25</th>\n",
       "      <th>26</th>\n",
       "      <th>27</th>\n",
       "      <th>28</th>\n",
       "      <th>29</th>\n",
       "      <th>30</th>\n",
       "      <th>31</th>\n",
       "      <th>32</th>\n",
       "      <th>33</th>\n",
       "      <th>34</th>\n",
       "      <th>35</th>\n",
       "      <th>36</th>\n",
       "      <th>37</th>\n",
       "      <th>38</th>\n",
       "      <th>39</th>\n",
       "      <th>40</th>\n",
       "      <th>41</th>\n",
       "      <th>42</th>\n",
       "      <th>43</th>\n",
       "      <th>44</th>\n",
       "      <th>45</th>\n",
       "      <th>46</th>\n",
       "      <th>47</th>\n",
       "      <th>48</th>\n",
       "      <th>49</th>\n",
       "      <th>50</th>\n",
       "      <th>51</th>\n",
       "      <th>52</th>\n",
       "      <th>53</th>\n",
       "      <th>54</th>\n",
       "      <th>55</th>\n",
       "      <th>56</th>\n",
       "      <th>57</th>\n",
       "    </tr>\n",
       "  </thead>\n",
       "  <tbody>\n",
       "    <tr>\n",
       "      <th>32</th>\n",
       "      <td>533788087</td>\n",
       "      <td>20150426</td>\n",
       "      <td>201504</td>\n",
       "      <td>2015</td>\n",
       "      <td>2015.3178</td>\n",
       "      <td>USA</td>\n",
       "      <td>UNITED STATES</td>\n",
       "      <td>USA</td>\n",
       "      <td>NaN</td>\n",
       "      <td>NaN</td>\n",
       "      <td>NaN</td>\n",
       "      <td>NaN</td>\n",
       "      <td>NaN</td>\n",
       "      <td>NaN</td>\n",
       "      <td>NaN</td>\n",
       "      <td>NaN</td>\n",
       "      <td>NaN</td>\n",
       "      <td>NaN</td>\n",
       "      <td>NaN</td>\n",
       "      <td>NaN</td>\n",
       "      <td>NaN</td>\n",
       "      <td>NaN</td>\n",
       "      <td>NaN</td>\n",
       "      <td>NaN</td>\n",
       "      <td>NaN</td>\n",
       "      <td>0</td>\n",
       "      <td>26</td>\n",
       "      <td>26</td>\n",
       "      <td>2</td>\n",
       "      <td>1</td>\n",
       "      <td>4.0</td>\n",
       "      <td>272</td>\n",
       "      <td>99</td>\n",
       "      <td>266</td>\n",
       "      <td>3.177587</td>\n",
       "      <td>3</td>\n",
       "      <td>Cleveland Heights, Ohio, United States</td>\n",
       "      <td>US</td>\n",
       "      <td>USOH</td>\n",
       "      <td>41.5201</td>\n",
       "      <td>-81.5562</td>\n",
       "      <td>1048605</td>\n",
       "      <td>0</td>\n",
       "      <td>NaN</td>\n",
       "      <td>NaN</td>\n",
       "      <td>NaN</td>\n",
       "      <td>NaN</td>\n",
       "      <td>NaN</td>\n",
       "      <td>NaN</td>\n",
       "      <td>3</td>\n",
       "      <td>Cleveland Heights, Ohio, United States</td>\n",
       "      <td>US</td>\n",
       "      <td>USOH</td>\n",
       "      <td>41.5201</td>\n",
       "      <td>-81.5562</td>\n",
       "      <td>1048605</td>\n",
       "      <td>20160425</td>\n",
       "      <td>http://thetandd.com/news/national/government-a...</td>\n",
       "    </tr>\n",
       "    <tr>\n",
       "      <th>33</th>\n",
       "      <td>533788088</td>\n",
       "      <td>20150426</td>\n",
       "      <td>201504</td>\n",
       "      <td>2015</td>\n",
       "      <td>2015.3178</td>\n",
       "      <td>USA</td>\n",
       "      <td>CLEVELAND</td>\n",
       "      <td>USA</td>\n",
       "      <td>NaN</td>\n",
       "      <td>NaN</td>\n",
       "      <td>NaN</td>\n",
       "      <td>NaN</td>\n",
       "      <td>NaN</td>\n",
       "      <td>NaN</td>\n",
       "      <td>NaN</td>\n",
       "      <td>NaN</td>\n",
       "      <td>NaN</td>\n",
       "      <td>NaN</td>\n",
       "      <td>NaN</td>\n",
       "      <td>NaN</td>\n",
       "      <td>NaN</td>\n",
       "      <td>NaN</td>\n",
       "      <td>NaN</td>\n",
       "      <td>NaN</td>\n",
       "      <td>NaN</td>\n",
       "      <td>0</td>\n",
       "      <td>26</td>\n",
       "      <td>26</td>\n",
       "      <td>2</td>\n",
       "      <td>1</td>\n",
       "      <td>4.0</td>\n",
       "      <td>1088</td>\n",
       "      <td>99</td>\n",
       "      <td>1064</td>\n",
       "      <td>3.177587</td>\n",
       "      <td>3</td>\n",
       "      <td>Cleveland Heights, Ohio, United States</td>\n",
       "      <td>US</td>\n",
       "      <td>USOH</td>\n",
       "      <td>41.5201</td>\n",
       "      <td>-81.5562</td>\n",
       "      <td>1048605</td>\n",
       "      <td>0</td>\n",
       "      <td>NaN</td>\n",
       "      <td>NaN</td>\n",
       "      <td>NaN</td>\n",
       "      <td>NaN</td>\n",
       "      <td>NaN</td>\n",
       "      <td>NaN</td>\n",
       "      <td>2</td>\n",
       "      <td>Ohio, United States</td>\n",
       "      <td>US</td>\n",
       "      <td>USOH</td>\n",
       "      <td>40.3736</td>\n",
       "      <td>-82.7755</td>\n",
       "      <td>OH</td>\n",
       "      <td>20160425</td>\n",
       "      <td>http://thetandd.com/news/national/government-a...</td>\n",
       "    </tr>\n",
       "    <tr>\n",
       "      <th>34</th>\n",
       "      <td>533788089</td>\n",
       "      <td>20150426</td>\n",
       "      <td>201504</td>\n",
       "      <td>2015</td>\n",
       "      <td>2015.3178</td>\n",
       "      <td>USA</td>\n",
       "      <td>UNITED STATES</td>\n",
       "      <td>USA</td>\n",
       "      <td>NaN</td>\n",
       "      <td>NaN</td>\n",
       "      <td>NaN</td>\n",
       "      <td>NaN</td>\n",
       "      <td>NaN</td>\n",
       "      <td>NaN</td>\n",
       "      <td>NaN</td>\n",
       "      <td>NaN</td>\n",
       "      <td>NaN</td>\n",
       "      <td>NaN</td>\n",
       "      <td>NaN</td>\n",
       "      <td>NaN</td>\n",
       "      <td>NaN</td>\n",
       "      <td>NaN</td>\n",
       "      <td>NaN</td>\n",
       "      <td>NaN</td>\n",
       "      <td>NaN</td>\n",
       "      <td>0</td>\n",
       "      <td>51</td>\n",
       "      <td>51</td>\n",
       "      <td>5</td>\n",
       "      <td>1</td>\n",
       "      <td>3.4</td>\n",
       "      <td>272</td>\n",
       "      <td>99</td>\n",
       "      <td>266</td>\n",
       "      <td>3.177587</td>\n",
       "      <td>3</td>\n",
       "      <td>Cleveland Heights, Ohio, United States</td>\n",
       "      <td>US</td>\n",
       "      <td>USOH</td>\n",
       "      <td>41.5201</td>\n",
       "      <td>-81.5562</td>\n",
       "      <td>1048605</td>\n",
       "      <td>0</td>\n",
       "      <td>NaN</td>\n",
       "      <td>NaN</td>\n",
       "      <td>NaN</td>\n",
       "      <td>NaN</td>\n",
       "      <td>NaN</td>\n",
       "      <td>NaN</td>\n",
       "      <td>3</td>\n",
       "      <td>Cleveland Heights, Ohio, United States</td>\n",
       "      <td>US</td>\n",
       "      <td>USOH</td>\n",
       "      <td>41.5201</td>\n",
       "      <td>-81.5562</td>\n",
       "      <td>1048605</td>\n",
       "      <td>20160425</td>\n",
       "      <td>http://thetandd.com/news/national/government-a...</td>\n",
       "    </tr>\n",
       "    <tr>\n",
       "      <th>35</th>\n",
       "      <td>533788090</td>\n",
       "      <td>20150426</td>\n",
       "      <td>201504</td>\n",
       "      <td>2015</td>\n",
       "      <td>2015.3178</td>\n",
       "      <td>USA</td>\n",
       "      <td>CLEVELAND</td>\n",
       "      <td>USA</td>\n",
       "      <td>NaN</td>\n",
       "      <td>NaN</td>\n",
       "      <td>NaN</td>\n",
       "      <td>NaN</td>\n",
       "      <td>NaN</td>\n",
       "      <td>NaN</td>\n",
       "      <td>NaN</td>\n",
       "      <td>NaN</td>\n",
       "      <td>NaN</td>\n",
       "      <td>NaN</td>\n",
       "      <td>NaN</td>\n",
       "      <td>NaN</td>\n",
       "      <td>NaN</td>\n",
       "      <td>NaN</td>\n",
       "      <td>NaN</td>\n",
       "      <td>NaN</td>\n",
       "      <td>NaN</td>\n",
       "      <td>0</td>\n",
       "      <td>51</td>\n",
       "      <td>51</td>\n",
       "      <td>5</td>\n",
       "      <td>1</td>\n",
       "      <td>3.4</td>\n",
       "      <td>1088</td>\n",
       "      <td>99</td>\n",
       "      <td>1064</td>\n",
       "      <td>3.177587</td>\n",
       "      <td>3</td>\n",
       "      <td>Cleveland Heights, Ohio, United States</td>\n",
       "      <td>US</td>\n",
       "      <td>USOH</td>\n",
       "      <td>41.5201</td>\n",
       "      <td>-81.5562</td>\n",
       "      <td>1048605</td>\n",
       "      <td>0</td>\n",
       "      <td>NaN</td>\n",
       "      <td>NaN</td>\n",
       "      <td>NaN</td>\n",
       "      <td>NaN</td>\n",
       "      <td>NaN</td>\n",
       "      <td>NaN</td>\n",
       "      <td>2</td>\n",
       "      <td>Ohio, United States</td>\n",
       "      <td>US</td>\n",
       "      <td>USOH</td>\n",
       "      <td>40.3736</td>\n",
       "      <td>-82.7755</td>\n",
       "      <td>OH</td>\n",
       "      <td>20160425</td>\n",
       "      <td>http://thetandd.com/news/national/government-a...</td>\n",
       "    </tr>\n",
       "    <tr>\n",
       "      <th>121</th>\n",
       "      <td>533788176</td>\n",
       "      <td>20160425</td>\n",
       "      <td>201604</td>\n",
       "      <td>2016</td>\n",
       "      <td>2016.3151</td>\n",
       "      <td>NaN</td>\n",
       "      <td>NaN</td>\n",
       "      <td>NaN</td>\n",
       "      <td>NaN</td>\n",
       "      <td>NaN</td>\n",
       "      <td>NaN</td>\n",
       "      <td>NaN</td>\n",
       "      <td>NaN</td>\n",
       "      <td>NaN</td>\n",
       "      <td>NaN</td>\n",
       "      <td>CHRCTH</td>\n",
       "      <td>CATHOLIC PRIEST</td>\n",
       "      <td>NaN</td>\n",
       "      <td>NaN</td>\n",
       "      <td>NaN</td>\n",
       "      <td>CHR</td>\n",
       "      <td>CTH</td>\n",
       "      <td>NaN</td>\n",
       "      <td>NaN</td>\n",
       "      <td>NaN</td>\n",
       "      <td>0</td>\n",
       "      <td>40</td>\n",
       "      <td>40</td>\n",
       "      <td>4</td>\n",
       "      <td>1</td>\n",
       "      <td>1.0</td>\n",
       "      <td>3</td>\n",
       "      <td>1</td>\n",
       "      <td>3</td>\n",
       "      <td>4.417671</td>\n",
       "      <td>0</td>\n",
       "      <td>NaN</td>\n",
       "      <td>NaN</td>\n",
       "      <td>NaN</td>\n",
       "      <td>NaN</td>\n",
       "      <td>NaN</td>\n",
       "      <td>NaN</td>\n",
       "      <td>3</td>\n",
       "      <td>Park Ridge, Illinois, United States</td>\n",
       "      <td>US</td>\n",
       "      <td>USIL</td>\n",
       "      <td>42.0111</td>\n",
       "      <td>-87.8406</td>\n",
       "      <td>415386</td>\n",
       "      <td>3</td>\n",
       "      <td>Park Ridge, Illinois, United States</td>\n",
       "      <td>US</td>\n",
       "      <td>USIL</td>\n",
       "      <td>42.0111</td>\n",
       "      <td>-87.8406</td>\n",
       "      <td>415386</td>\n",
       "      <td>20160425</td>\n",
       "      <td>http://www.detroitnews.com/story/news/politics...</td>\n",
       "    </tr>\n",
       "  </tbody>\n",
       "</table>\n",
       "</div>"
      ],
      "text/plain": [
       "            0         1       2     3          4    5              6    7   \\\n",
       "32   533788087  20150426  201504  2015  2015.3178  USA  UNITED STATES  USA   \n",
       "33   533788088  20150426  201504  2015  2015.3178  USA      CLEVELAND  USA   \n",
       "34   533788089  20150426  201504  2015  2015.3178  USA  UNITED STATES  USA   \n",
       "35   533788090  20150426  201504  2015  2015.3178  USA      CLEVELAND  USA   \n",
       "121  533788176  20160425  201604  2016  2016.3151  NaN            NaN  NaN   \n",
       "\n",
       "      8    9    10   11   12   13   14      15               16   17   18  \\\n",
       "32   NaN  NaN  NaN  NaN  NaN  NaN  NaN     NaN              NaN  NaN  NaN   \n",
       "33   NaN  NaN  NaN  NaN  NaN  NaN  NaN     NaN              NaN  NaN  NaN   \n",
       "34   NaN  NaN  NaN  NaN  NaN  NaN  NaN     NaN              NaN  NaN  NaN   \n",
       "35   NaN  NaN  NaN  NaN  NaN  NaN  NaN     NaN              NaN  NaN  NaN   \n",
       "121  NaN  NaN  NaN  NaN  NaN  NaN  NaN  CHRCTH  CATHOLIC PRIEST  NaN  NaN   \n",
       "\n",
       "      19   20   21   22   23   24  25  26  27 28  29   30    31  32    33  \\\n",
       "32   NaN  NaN  NaN  NaN  NaN  NaN   0  26  26  2   1  4.0   272  99   266   \n",
       "33   NaN  NaN  NaN  NaN  NaN  NaN   0  26  26  2   1  4.0  1088  99  1064   \n",
       "34   NaN  NaN  NaN  NaN  NaN  NaN   0  51  51  5   1  3.4   272  99   266   \n",
       "35   NaN  NaN  NaN  NaN  NaN  NaN   0  51  51  5   1  3.4  1088  99  1064   \n",
       "121  NaN  CHR  CTH  NaN  NaN  NaN   0  40  40  4   1  1.0     3   1     3   \n",
       "\n",
       "           34  35                                      36   37    38       39  \\\n",
       "32   3.177587   3  Cleveland Heights, Ohio, United States   US  USOH  41.5201   \n",
       "33   3.177587   3  Cleveland Heights, Ohio, United States   US  USOH  41.5201   \n",
       "34   3.177587   3  Cleveland Heights, Ohio, United States   US  USOH  41.5201   \n",
       "35   3.177587   3  Cleveland Heights, Ohio, United States   US  USOH  41.5201   \n",
       "121  4.417671   0                                     NaN  NaN   NaN      NaN   \n",
       "\n",
       "          40       41  42                                   43   44    45  \\\n",
       "32  -81.5562  1048605   0                                  NaN  NaN   NaN   \n",
       "33  -81.5562  1048605   0                                  NaN  NaN   NaN   \n",
       "34  -81.5562  1048605   0                                  NaN  NaN   NaN   \n",
       "35  -81.5562  1048605   0                                  NaN  NaN   NaN   \n",
       "121      NaN      NaN   3  Park Ridge, Illinois, United States   US  USIL   \n",
       "\n",
       "          46       47      48  49                                      50  51  \\\n",
       "32       NaN      NaN     NaN   3  Cleveland Heights, Ohio, United States  US   \n",
       "33       NaN      NaN     NaN   2                     Ohio, United States  US   \n",
       "34       NaN      NaN     NaN   3  Cleveland Heights, Ohio, United States  US   \n",
       "35       NaN      NaN     NaN   2                     Ohio, United States  US   \n",
       "121  42.0111 -87.8406  415386   3     Park Ridge, Illinois, United States  US   \n",
       "\n",
       "       52       53       54       55        56  \\\n",
       "32   USOH  41.5201 -81.5562  1048605  20160425   \n",
       "33   USOH  40.3736 -82.7755       OH  20160425   \n",
       "34   USOH  41.5201 -81.5562  1048605  20160425   \n",
       "35   USOH  40.3736 -82.7755       OH  20160425   \n",
       "121  USIL  42.0111 -87.8406   415386  20160425   \n",
       "\n",
       "                                                    57  \n",
       "32   http://thetandd.com/news/national/government-a...  \n",
       "33   http://thetandd.com/news/national/government-a...  \n",
       "34   http://thetandd.com/news/national/government-a...  \n",
       "35   http://thetandd.com/news/national/government-a...  \n",
       "121  http://www.detroitnews.com/story/news/politics...  "
      ]
     },
     "execution_count": 4,
     "metadata": {},
     "output_type": "execute_result"
    }
   ],
   "source": [
    "ev_pds[ev_pds[57].str.find('clinton') > 0].head(5)"
   ]
  },
  {
   "cell_type": "code",
   "execution_count": 5,
   "metadata": {
    "collapsed": false
   },
   "outputs": [
    {
     "data": {
      "text/plain": [
       "<matplotlib.axes._subplots.AxesSubplot at 0x111638e50>"
      ]
     },
     "execution_count": 5,
     "metadata": {},
     "output_type": "execute_result"
    },
    {
     "data": {
      "image/png": "[encoded data removed]",
      "text/plain": [
       "<matplotlib.figure.Figure at 0x103e6ad90>"
      ]
     },
     "metadata": {},
     "output_type": "display_data"
    }
   ],
   "source": [
    "fig, ax = plt.subplots(figsize=(8, 6))\n",
    "ax.set_xlabel('score range', fontsize=15)\n",
    "ax.set_ylabel('counts', fontsize=15)\n",
    "ax.set_title('histo of scores', fontsize=20)\n",
    "ev_pds[34].hist(ax=ax, bins=20)"
   ]
  },
  {
   "cell_type": "code",
   "execution_count": 3,
   "metadata": {
    "collapsed": false
   },
   "outputs": [
    {
     "data": {
      "text/plain": [
       "[u'533788055\\t20150426\\t201504\\t2015\\t2015.3178\\t\\t\\t\\t\\t\\t\\t\\t\\t\\t\\tAUS\\tAUSTRALIA\\tAUS\\t\\t\\t\\t\\t\\t\\t\\t1\\t042\\t042\\t04\\t1\\t1.9\\t4\\t1\\t4\\t1.85185185185185\\t0\\t\\t\\t\\t\\t\\t\\t4\\tPeachester, Queensland, Australia\\tAS\\tAS04\\t-26.8455\\t152.884\\t-1594206\\t4\\tPeachester, Queensland, Australia\\tAS\\tAS04\\t-26.8455\\t152.884\\t-1594206\\t20160425\\thttp://www.sunshinecoastdaily.com.au/news/demand-for-acreage-lots-pushes-up-property-prices/3006492/',\n",
       " u'533788056\\t20150426\\t201504\\t2015\\t2015.3178\\t\\t\\t\\t\\t\\t\\t\\t\\t\\t\\tAUS\\tAUSTRALIA\\tAUS\\t\\t\\t\\t\\t\\t\\t\\t1\\t042\\t042\\t04\\t1\\t1.9\\t2\\t1\\t2\\t1.85185185185185\\t0\\t\\t\\t\\t\\t\\t\\t4\\tLondon, London, City of, United Kingdom\\tUK\\tUKH9\\t51.5\\t-0.116667\\t-2601889\\t4\\tLondon, London, City of, United Kingdom\\tUK\\tUKH9\\t51.5\\t-0.116667\\t-2601889\\t20160425\\thttp://www.sunshinecoastdaily.com.au/news/demand-for-acreage-lots-pushes-up-property-prices/3006492/',\n",
       " u'533788057\\t20150426\\t201504\\t2015\\t2015.3178\\t\\t\\t\\t\\t\\t\\t\\t\\t\\t\\tLEG\\tREPRESENTATIVES\\t\\t\\t\\t\\t\\tLEG\\t\\t\\t1\\t043\\t043\\t04\\t1\\t2.8\\t50\\t5\\t50\\t1.50732295142752\\t0\\t\\t\\t\\t\\t\\t\\t4\\tKenora, Ontario, Canada\\tCA\\tCA08\\t49.7667\\t-94.4667\\t-567171\\t4\\tKenora, Ontario, Canada\\tCA\\tCA08\\t49.7667\\t-94.4667\\t-567171\\t20160425\\thttp://www.thoroldedition.ca/2016/04/24/felines-from-kenora-land-at-welland-humane-society']"
      ]
     },
     "execution_count": 3,
     "metadata": {},
     "output_type": "execute_result"
    }
   ],
   "source": [
    "events = sc.textFile('20160425.export.CSV')\n",
    "events.take(3)"
   ]
  },
  {
   "cell_type": "code",
   "execution_count": 7,
   "metadata": {
    "collapsed": false
   },
   "outputs": [],
   "source": [
    "# original candidate count\n",
    "# def eventWordCount(index, lines):\n",
    "#     import csv\n",
    "#     from string import punctuation, maketrans\n",
    "#     import itertools\n",
    "#     import re\n",
    "#     if index==0:\n",
    "#         lines.next()\n",
    "#     reader = csv.reader(itertools.imap(lambda x: x.encode('utf-8'), lines), delimiter='\\t')\n",
    "#     for row in reader:\n",
    "#         (day, score, url) = (row[1], row[34], row[-1])\n",
    "#         candidates = set(url.lower().translate(maketrans(punctuation, ','*len(punctuation))).split(','))\n",
    "#         if len(ls.intersection(candidates)) > 0:\n",
    "#             yield (','.join(sorted(list(ls.intersection(candidates)))), float(score))\n",
    "# #            yield (','.join(sorted(list(ls.intersection(set(row[-1].lower().translate(maketrans(punctuation, ','*len(punctuation))).split(',')))))), 1)\n",
    "#             # row #(ls.intersection(set(row[-1].lower().translate(maketrans(punctuation, ','*len(punctuation))).split(','))))\n",
    "# #        yield ls.intersection(row[-1].lower().translate(maketrans(punctuation, ','*len(punctuation))))\n",
    "# #         if (ls.intersection(re.sub(punctuation, ',', row[-1].lower()))) > 0:\n",
    "# #             yield ls.intersection(re.sub(punctuation, ',', row[-1].lower()))\n",
    "        \n",
    "# eventwc = events.mapPartitionsWithIndex(eventWordCount).cache()\n",
    "# eventwc.take(20)"
   ]
  },
  {
   "cell_type": "code",
   "execution_count": 8,
   "metadata": {
    "collapsed": false
   },
   "outputs": [
    {
     "data": {
      "text/plain": [
       "[('clinton', 3.17758651952913),\n",
       " ('clinton', 3.17758651952913),\n",
       " ('clinton', 3.17758651952913),\n",
       " ('clinton', 3.17758651952913),\n",
       " ('clinton', 4.41767068273092),\n",
       " ('clinton', 3.43195266272189),\n",
       " ('cruz', 1.50550379477001),\n",
       " ('cruz', -0.830387353756589),\n",
       " ('trump', -0.830387353756589),\n",
       " ('clinton', -0.35971223021583)]"
      ]
     },
     "execution_count": 8,
     "metadata": {},
     "output_type": "execute_result"
    }
   ],
   "source": [
    "def eventWordCount(index, lines):\n",
    "    \n",
    "    '''\n",
    "    author: Xia Wang\n",
    "    \n",
    "    This function maps the candidates of each election cycle and return a tuple of\n",
    "    (candidate name, media attitude). It first makes sure the encoding is utf-8\n",
    "    because there are characters like e' that cannot be decoded by the ancsii codec.\n",
    "    Then it parse the http string (last column of the input files) to find out if \n",
    "    the last name of a candidate is present. For the rows where candidate names are\n",
    "    present, the name of the candidate and the media attitude towards it will be\n",
    "    output as a tuple.\n",
    "    \n",
    "    TODO: The function uses a list of corresponding candidate names. Decide whether\n",
    "    to create this list internally to each map script and use a different map script\n",
    "    for each election cycle, or to create a csv file with the list provided.\n",
    "    \n",
    "    parameters:\n",
    "    ----------------------\n",
    "    index: the index of the input file\n",
    "    lines: the content of the row\n",
    "    '''\n",
    "    \n",
    "    import csv\n",
    "    from string import punctuation, maketrans\n",
    "    import itertools\n",
    "    import re\n",
    "    if index == 0:\n",
    "        lines.next()\n",
    "    reader = csv.reader(itertools.imap(lambda x: x.encode('utf-8'), lines), delimiter='\\t')\n",
    "    for row in reader:\n",
    "        (day, score, url) = (row[1], row[34], row[-1])  # find the corresponding info\n",
    "        # change all punctuations to comma, change all letter case to lower, and split the words\n",
    "        words = set(url.lower().translate(maketrans(punctuation, ','*len(punctuation))).split(','))\n",
    "        if len(ls.intersection(words)) > 0:  # ls is a list that contains all the relevant candidate names\n",
    "            for candidate in list(ls.intersection(words)):\n",
    "                yield (candidate, float(score))\n",
    "                \n",
    "if __name__ == '__main__':\n",
    "    events.mapPartitionsWithIndex(eventWordCount).cache()"
   ]
  },
  {
   "cell_type": "code",
   "execution_count": 24,
   "metadata": {
    "collapsed": false
   },
   "outputs": [
    {
     "data": {
      "text/plain": [
       "defaultdict(int,\n",
       "            {'clinton': 1520,\n",
       "             'cruz': 2941,\n",
       "             'rubio': 16,\n",
       "             'sanders': 1253,\n",
       "             'trump': 4020})"
      ]
     },
     "execution_count": 24,
     "metadata": {},
     "output_type": "execute_result"
    }
   ],
   "source": [
    "# word count\n",
    "# from operator import add\n",
    "counts = newtry.countByKey()\n",
    "counts"
   ]
  },
  {
   "cell_type": "code",
   "execution_count": 25,
   "metadata": {
    "collapsed": false
   },
   "outputs": [
    {
     "data": {
      "text/plain": [
       "[('sanders', -0.8010542827089455),\n",
       " ('cruz', -0.3446223716339522),\n",
       " ('clinton', -0.7245645832345898),\n",
       " ('trump', -0.6607794128064405),\n",
       " ('rubio', -0.010789633288540074)]"
      ]
     },
     "execution_count": 25,
     "metadata": {},
     "output_type": "execute_result"
    }
   ],
   "source": [
    "# average senti score\n",
    "score = newtry.mapValues(lambda x: (x, 1)) \\\n",
    "               .reduceByKey(lambda x, y: (x[0] + y[0], x[1] + y[1])) \\\n",
    "               .collect()\n",
    "avg = [(i[0], i[1][0]/i[1][1]) for i in score]\n",
    "avg"
   ]
  },
  {
   "cell_type": "code",
   "execution_count": 11,
   "metadata": {
    "collapsed": false
   },
   "outputs": [],
   "source": [
    "# from operator import add\n",
    "# counts = eventwc.countByKey()\n",
    "# counts"
   ]
  },
  {
   "cell_type": "code",
   "execution_count": 12,
   "metadata": {
    "collapsed": false
   },
   "outputs": [],
   "source": [
    "# score = eventwc.mapValues(lambda x: (x, 1)) \\\n",
    "#                .reduceByKey(lambda x, y: (x[0] + y[0], x[1] + y[1])) \\\n",
    "#                .collect()\n",
    "# avg = [(i[0], i[1][0]/i[1][1]) for i in score]\n",
    "# avg"
   ]
  },
  {
   "cell_type": "code",
   "execution_count": 18,
   "metadata": {
    "collapsed": false,
    "scrolled": true
   },
   "outputs": [],
   "source": [
    "# print 'sanders: {:.4f}'.format((-671.5 / 948))\n",
    "# print 'clinton: {:.4f}'.format((-388.1 / 795))\n",
    "# print 'trump: {:.4f}'.format((-1662.0 / 1763))"
   ]
  },
  {
   "cell_type": "code",
   "execution_count": 19,
   "metadata": {
    "collapsed": false
   },
   "outputs": [],
   "source": [
    "# b = 'jdlsf.sldfj;/.sdfjlsja0=-dDFEsf1'\n",
    "# row[-1].lower().translate(None, punctuation)"
   ]
  },
  {
   "cell_type": "code",
   "execution_count": 20,
   "metadata": {
    "collapsed": false
   },
   "outputs": [],
   "source": [
    "# 'a'.translate(None, punctuation)"
   ]
  },
  {
   "cell_type": "code",
   "execution_count": 21,
   "metadata": {
    "collapsed": false
   },
   "outputs": [],
   "source": [
    "# print u'\\xe8'"
   ]
  },
  {
   "cell_type": "code",
   "execution_count": null,
   "metadata": {
    "collapsed": false
   },
   "outputs": [],
   "source": []
  },
  {
   "cell_type": "code",
   "execution_count": 22,
   "metadata": {
    "collapsed": false
   },
   "outputs": [],
   "source": [
    "# ls.symme"
   ]
  },
  {
   "cell_type": "code",
   "execution_count": 23,
   "metadata": {
    "collapsed": false
   },
   "outputs": [],
   "source": [
    "# cnt = 0\n",
    "# for url in eventwc:\n",
    "#     found = False\n",
    "#     if 'barack' in url.lower():\n",
    "#         found = True\n",
    "#     if 'obama' in url.lower():\n",
    "#         found = True\n",
    "#     if found:\n",
    "#         print url\n",
    "#     if cnt>20:\n",
    "#         break\n",
    "#     cnt+=1"
   ]
  },
  {
   "cell_type": "code",
   "execution_count": null,
   "metadata": {
    "collapsed": true
   },
   "outputs": [],
   "source": []
  },
  {
   "cell_type": "code",
   "execution_count": null,
   "metadata": {
    "collapsed": true
   },
   "outputs": [],
   "source": []
  },
  {
   "cell_type": "code",
   "execution_count": null,
   "metadata": {
    "collapsed": true
   },
   "outputs": [],
   "source": []
  },
  {
   "cell_type": "code",
   "execution_count": 23,
   "metadata": {
    "collapsed": false
   },
   "outputs": [],
   "source": [
    "def eventWordCount(index, lines):\n",
    "    '''\n",
    "    author: Xia Wang\n",
    "    This function maps the candidates of each election cycle and return a\n",
    "    tuple of (candidate name, media attitude). It first makes sure the\n",
    "    encoding is utf-8 because there are characters like e' that cannot be\n",
    "    decoded by the ancsii codec. Then it parse the http string (last column\n",
    "    of the input files) to find out if the last name of a candidate is present.\n",
    "    For the rows where candidate names are present, the name of the candidate and\n",
    "    the media attitude towards it will be output as a tuple.\n",
    "\n",
    "    TODO: The function uses a list of corresponding candidate names. Decide whether\n",
    "    to create this list internally to each map script and use a different map script\n",
    "    for each election cycle, or to create a csv file with the list provided. Also\n",
    "    modify the __main__ part, specify how the map takes place.\n",
    "\n",
    "    parameters:\n",
    "    ----------------------\n",
    "\n",
    "    index: the index of the input file\n",
    "    lines: the content of the row\n",
    "    '''\n",
    "    ls = set(['clinton', 'sanders', 'trump', 'cruz', 'rubio'])\n",
    "    # do something about this list\n",
    "    import csv\n",
    "    from string import punctuation, maketrans\n",
    "    import itertools\n",
    "    if index == 0:\n",
    "        lines.next()\n",
    "    reader = csv.reader(itertools.imap(lambda x: x.encode('utf-8'), lines),\n",
    "                        delimiter='\\t')\n",
    "    for row in reader:\n",
    "        (day, score, url) = (row[1], row[34], row[-1])\n",
    "        # find the corresponding info\n",
    "        # change all punctuations to comma, change all\n",
    "        # letter case to lower, and split the words\n",
    "        words = set(url.lower()\n",
    "                       .translate(maketrans(punctuation,\n",
    "                                            ',' * len(punctuation)))\n",
    "                       .split(','))\n",
    "        if len(ls.intersection(words)) == 1:\n",
    "            # ls is a set that contains all the relevant candidate names\n",
    "            for candidate in list(ls.intersection(words)):\n",
    "                yield (candidate, float(score), day)\n",
    "\n",
    "if __name__ == '__main__':\n",
    "    # !!!!!!!do something here!!!!!!!\n",
    "    output = events.mapPartitionsWithIndex(eventWordCount).cache()"
   ]
  },
  {
   "cell_type": "code",
   "execution_count": 24,
   "metadata": {
    "collapsed": false
   },
   "outputs": [
    {
     "data": {
      "text/plain": [
       "[('clinton', 3.17758651952913, '20150426'),\n",
       " ('clinton', 3.17758651952913, '20150426'),\n",
       " ('clinton', 3.17758651952913, '20150426'),\n",
       " ('clinton', 3.17758651952913, '20150426'),\n",
       " ('clinton', 4.41767068273092, '20160425'),\n",
       " ('clinton', 3.43195266272189, '20160425'),\n",
       " ('cruz', 1.50550379477001, '20160425'),\n",
       " ('clinton', -0.35971223021583, '20160425'),\n",
       " ('clinton', -0.35971223021583, '20160425'),\n",
       " ('clinton', 0.71428571428571, '20160425')]"
      ]
     },
     "execution_count": 24,
     "metadata": {},
     "output_type": "execute_result"
    }
   ],
   "source": [
    "output.take(10)"
   ]
  },
  {
   "cell_type": "code",
   "execution_count": null,
   "metadata": {
    "collapsed": true
   },
   "outputs": [],
   "source": [
    "# def extractCandidate(index, lines):\n",
    "#     import csv\n",
    "#     if index==0:\n",
    "#         lines.next()\n",
    "#     reader = csv.reader(lines, delimiter='\\t')\n",
    "#     for row in reader:\n",
    "#         if row[2]!='s':\n",
    "#             (dbn, takers, score) = (row[0], int(row[2]), int(row[4]))\n",
    "#             yield (dbn, (score*takers, takers))\n",
    "        \n",
    "# satScores = sat.mapPartitionsWithIndex(extractScores)"
   ]
  },
  {
   "cell_type": "code",
   "execution_count": 25,
   "metadata": {
    "collapsed": false
   },
   "outputs": [
    {
     "data": {
      "text/plain": [
       "defaultdict(int,\n",
       "            {'clinton': 795,\n",
       "             'cruz': 1061,\n",
       "             'rubio': 11,\n",
       "             'sanders': 948,\n",
       "             'trump': 1763})"
      ]
     },
     "execution_count": 25,
     "metadata": {},
     "output_type": "execute_result"
    }
   ],
   "source": [
    "counts = output.countByKey()\n",
    "counts"
   ]
  },
  {
   "cell_type": "code",
   "execution_count": 26,
   "metadata": {
    "collapsed": false
   },
   "outputs": [
    {
     "data": {
      "text/plain": [
       "[('sanders', -0.7083500217917778),\n",
       " ('cruz', -0.3059769644476606),\n",
       " ('clinton', -0.48819834144363405),\n",
       " ('trump', -0.9426931027011101),\n",
       " ('rubio', 0.2313167259786499)]"
      ]
     },
     "execution_count": 26,
     "metadata": {},
     "output_type": "execute_result"
    }
   ],
   "source": [
    "# average senti score\n",
    "score = output.mapValues(lambda x: (x, 1)) \\\n",
    "               .reduceByKey(lambda x, y: (x[0] + y[0], x[1] + y[1])) \\\n",
    "               .collect()\n",
    "avg = [(i[0], i[1][0]/i[1][1]) for i in score]\n",
    "avg"
   ]
  },
  {
   "cell_type": "code",
   "execution_count": 17,
   "metadata": {
    "collapsed": false
   },
   "outputs": [],
   "source": [
    "from string import punctuation, maketrans\n",
    "import sys\n",
    "\n",
    "\n",
    "def eventWordCount(parts):\n",
    "\n",
    "    '''\n",
    "    author: Xia Wang\n",
    "    This function maps the candidates of each election cycle and return a\n",
    "    tuple of (candidate name, media attitude). It first makes sure the\n",
    "    encoding is utf-8 because there are characters like e' that cannot be\n",
    "    decoded by the ancsii codec. Then it parse the http string (last column\n",
    "    of the input files) to find out if the last name of a candidate is\n",
    "    present.\n",
    "    For the rows where candidate names are present, the name of the candidate\n",
    "    and the media attitude towards it will be output as a tuple.\n",
    "\n",
    "    TODO: The function uses a list of corresponding candidate names. Decide\n",
    "    whether to create this list internally to each map script and use a\n",
    "    different map script for each election cycle, or to create a csv file\n",
    "    with the list provided. Also modify the __main__ part, specify how the\n",
    "    map takes place.\n",
    "\n",
    "    parameters:\n",
    "    ----------------------\n",
    "\n",
    "    index: the index of the input file\n",
    "    lines: the content of the row\n",
    "    '''\n",
    "    ls = set(['clinton', 'sanders', 'trump', 'cruz', 'rubio'])\n",
    "    # do something about this list\n",
    "    for line in parts:\n",
    "        rowls = line.encode('utf-8').split('\\t')\n",
    "        (date, score, url) = (rowls[1], rowls[34], rowls[-1])\n",
    "        # find the corresponding info\n",
    "        # change all punctuations to comma, change all\n",
    "        # letter case to lower, and split the words\n",
    "        words = set(url.lower()\n",
    "                       .translate(maketrans(punctuation,\n",
    "                                            ',' * len(punctuation)))\n",
    "                       .split(','))\n",
    "        if len(ls.intersection(words)) == 1:\n",
    "            # ls is a list that contains all the relevant candidate names\n",
    "            for candidate in list(ls.intersection(words)):\n",
    "                yield (candidate, float(score), date)\n",
    "\n",
    "\n",
    "# def countReduce(inputfile):\n",
    "#     inputfile.countByKey()\n",
    "\n",
    "\n",
    "# def scoreReduce(inputfile):\n",
    "#     inputfile.mapValues(lambda x: (x, 1)) \\\n",
    "#              .reduceByKey(lambda x, y: (x[0] + y[0], x[1] + y[1])) \\\n",
    "#              .collect()\n",
    "\n",
    "\n",
    "if __name__ == '__main__':\n",
    "#    sc = pyspark.SparkContext()\n",
    "    events = sc.textFile('20160425.export.CSV')\n",
    "    # !!!!!!!do something here!!!!!!! events is the textFile RDD\n",
    "    # counts = events.mapPartitions(eventWordCount).cache().countByKey()\n",
    "    attitude = events.mapPartitions(eventWordCount).mapValues(lambda x:\n",
    "                                                                (x, 1)) \\\n",
    "                                                   .reduceByKey(lambda x, y: (x[0] + y[0], x[1] + y[1]))\n",
    "    # counts.saveAsTextFile('output1.txt')\n",
    "    attitude.saveAsTextFile('output3.txt')"
   ]
  },
  {
   "cell_type": "code",
   "execution_count": 27,
   "metadata": {
    "collapsed": false
   },
   "outputs": [],
   "source": [
    "from string import punctuation, maketrans\n",
    "import sys\n",
    "\n",
    "\n",
    "def eventWordCount(index, lines):\n",
    "    '''\n",
    "    author: Xia Wang\n",
    "    This function maps the candidates of each election cycle and return a\n",
    "    tuple of (candidate name, media attitude). It first makes sure the\n",
    "    encoding is utf-8 because there are characters like e' that cannot be\n",
    "    decoded by the ancsii codec. Then it parse the http string (last column\n",
    "    of the input files) to find out if the last name of a candidate is present.\n",
    "    For the rows where candidate names are present, the name of the candidate and\n",
    "    the media attitude towards it will be output as a tuple.\n",
    "\n",
    "    TODO: The function uses a list of corresponding candidate names. Decide whether\n",
    "    to create this list internally to each map script and use a different map script\n",
    "    for each election cycle, or to create a csv file with the list provided. Also\n",
    "    modify the __main__ part, specify how the map takes place.\n",
    "\n",
    "    parameters:\n",
    "    ----------------------\n",
    "\n",
    "    index: the index of the input file\n",
    "    lines: the content of the row\n",
    "    '''\n",
    "    ls = set(['clinton', 'sanders', 'trump', 'cruz', 'rubio'])\n",
    "    # do something about this list\n",
    "    import csv\n",
    "    from string import punctuation, maketrans\n",
    "    import itertools\n",
    "    if index == 0:\n",
    "        lines.next()\n",
    "    reader = csv.reader(itertools.imap(lambda x: x.encode('utf-8'), lines),\n",
    "                        delimiter='\\t')\n",
    "    for row in reader:\n",
    "        (day, score, url) = (row[1], row[34], row[-1])\n",
    "        # find the corresponding info\n",
    "        # change all punctuations to comma, change all\n",
    "        # letter case to lower, and split the words\n",
    "        words = set(url.lower()\n",
    "                       .translate(maketrans(punctuation,\n",
    "                                            ',' * len(punctuation)))\n",
    "                       .split(','))\n",
    "        if len(ls.intersection(words)) == 1:\n",
    "            # ls is a set that contains all the relevant candidate names\n",
    "            for candidate in list(ls.intersection(words)):\n",
    "                yield (candidate, float(score), day)\n",
    "\n",
    "                \n",
    "if __name__ == '__main__':\n",
    "#    sc = pyspark.SparkContext()\n",
    "    events = sc.textFile('20160425.export.CSV')\n",
    "    # !!!!!!!do something here!!!!!!! events is the textFile RDD\n",
    "    # counts = events.mapPartitionsWithIndex(eventWordCount).cache().countByKey()\n",
    "    attitude = events.mapPartitionsWithIndex(eventWordCount).mapValues(lambda x:\n",
    "                                                                (x, 1)) \\\n",
    "                                                   .reduceByKey(lambda x, y: (x[0] + y[0], x[1] + y[1]))\n",
    "    # print counts\n",
    "    attitude.saveAsTextFile('output3.txt')"
   ]
  },
  {
   "cell_type": "code",
   "execution_count": null,
   "metadata": {
    "collapsed": true
   },
   "outputs": [],
   "source": []
  }
 ],
 "metadata": {
  "kernelspec": {
   "display_name": "Python 2",
   "language": "python",
   "name": "python2"
  },
  "language_info": {
   "codemirror_mode": {
    "name": "ipython",
    "version": 2
   },
   "file_extension": ".py",
   "mimetype": "text/x-python",
   "name": "python",
   "nbconvert_exporter": "python",
   "pygments_lexer": "ipython2",
   "version": "2.7.11"
  }
 },
 "nbformat": 4,
 "nbformat_minor": 0
}
