{
 "cells": [
  {
   "cell_type": "code",
   "execution_count": 1,
   "metadata": {
    "collapsed": true
   },
   "outputs": [],
   "source": [
    "import mapreduce as mr"
   ]
  },
  {
   "cell_type": "code",
   "execution_count": 2,
   "metadata": {
    "collapsed": true
   },
   "outputs": [],
   "source": [
    "with open('serviceStatus.txt', 'r') as fi:\n",
    "    data = [line.strip() for line in fi]"
   ]
  },
  {
   "cell_type": "code",
   "execution_count": 3,
   "metadata": {
    "collapsed": false
   },
   "outputs": [
    {
     "data": {
      "text/plain": [
       "['1,2,3 : Good Service',\n",
       " '4,5,6 : Delays',\n",
       " '7 : Good Service',\n",
       " 'A,C : Good Service',\n",
       " 'E : Planned Work',\n",
       " 'G : Delays',\n",
       " 'B,D,F,M : Good Service',\n",
       " 'J,Z : Delays',\n",
       " 'L : Good Service',\n",
       " 'N,Q,R : Planned Work',\n",
       " 'S : Good Service']"
      ]
     },
     "execution_count": 3,
     "metadata": {},
     "output_type": "execute_result"
    }
   ],
   "source": [
    "data"
   ]
  },
  {
   "cell_type": "code",
   "execution_count": 4,
   "metadata": {
    "collapsed": false
   },
   "outputs": [
    {
     "name": "stdout",
     "output_type": "stream",
     "text": [
      "[('1,2,3', 1), ('4,5,6', 1), ('7', 1), (':', 11), ('A,C', 1), ('B,D,F,M', 1), ('Delays', 3), ('E', 1), ('G', 1), ('Good', 6), ('J,Z', 1), ('L', 1), ('N,Q,R', 1), ('Planned', 2), ('S', 1), ('Service', 6), ('Work', 2)]\n"
     ]
    }
   ],
   "source": [
    "def mapper(line):\n",
    "    for word in line.split():\n",
    "        yield (word, 1)\n",
    "\n",
    "def reducer(k2v2):\n",
    "    word, counts = k2v2\n",
    "    return (word, sum(counts))\n",
    "\n",
    "mr.run(data, mapper, reducer)\n",
    "\n",
    "print list(mr.run(data, mapper, reducer))"
   ]
  },
  {
   "cell_type": "code",
   "execution_count": 5,
   "metadata": {
    "collapsed": false
   },
   "outputs": [
    {
     "name": "stdout",
     "output_type": "stream",
     "text": [
      "[['4,5,6 : Delays', 'G : Delays', 'J,Z : Delays']]\n"
     ]
    }
   ],
   "source": [
    "# count 'Delays'\n",
    "def mapper(line):\n",
    "    for word in line.split():\n",
    "        if word.lower() == 'delays':\n",
    "            yield (word, line)\n",
    "\n",
    "def reducer(k2v2):\n",
    "    word, status = k2v2\n",
    "    return list(status)\n",
    "\n",
    "mr.run(data, mapper, reducer)\n",
    "\n",
    "print list(mr.run(data, mapper, reducer))"
   ]
  },
  {
   "cell_type": "code",
   "execution_count": 6,
   "metadata": {
    "collapsed": true
   },
   "outputs": [],
   "source": [
    "import csv"
   ]
  },
  {
   "cell_type": "code",
   "execution_count": 8,
   "metadata": {
    "collapsed": false
   },
   "outputs": [
    {
     "name": "stdout",
     "output_type": "stream",
     "text": [
      "['1978', '1992', '1982', '1969', '1963', '1989', '1963']\n"
     ]
    }
   ],
   "source": [
    "def mapper(row):\n",
    "    if row['usertype'] == 'Subscriber':\n",
    "        date, time = row['starttime'].split(' ') # lazy way to separate date and time\n",
    "        yield (date, (time, row['birth_year']))\n",
    "def reducer(k2v2):\n",
    "    date, records = k2v2\n",
    "    return min(records)[1]\n",
    "\n",
    "with open('citibike.csv', 'r') as fi:\n",
    "    reader = csv.DictReader(fi)\n",
    "    print list(mr.run(reader, mapper, reducer))"
   ]
  },
  {
   "cell_type": "code",
   "execution_count": null,
   "metadata": {
    "collapsed": true
   },
   "outputs": [],
   "source": []
  }
 ],
 "metadata": {
  "kernelspec": {
   "display_name": "Python 2",
   "language": "python",
   "name": "python2"
  },
  "language_info": {
   "codemirror_mode": {
    "name": "ipython",
    "version": 2
   },
   "file_extension": ".py",
   "mimetype": "text/x-python",
   "name": "python",
   "nbconvert_exporter": "python",
   "pygments_lexer": "ipython2",
   "version": "2.7.11"
  }
 },
 "nbformat": 4,
 "nbformat_minor": 0
}
